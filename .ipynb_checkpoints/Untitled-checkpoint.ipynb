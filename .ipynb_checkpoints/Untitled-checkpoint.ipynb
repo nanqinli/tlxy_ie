{
 "cells": [
  {
   "cell_type": "code",
   "execution_count": 9,
   "metadata": {},
   "outputs": [
    {
     "name": "stdout",
     "output_type": "stream",
     "text": [
      "I am a student\n",
      "我叫jingjing,我今年18岁了，我住我家\n"
     ]
    }
   ],
   "source": [
    "def stu_key(name=\"no name\",age=0,addr=\"no addr\"):\n",
    "    print(\"I am a student\")\n",
    "    print(\"我叫{0},我今年{1}岁了，我住{2}\".format(name,age,addr))\n",
    "    \n",
    "n = \"jingjing\"\n",
    "a = 18\n",
    "addr = \"我家\"\n",
    "\n",
    "stu_key(age=a,addr=addr,name=n)"
   ]
  },
  {
   "cell_type": "code",
   "execution_count": 12,
   "metadata": {},
   "outputs": [
    {
     "name": "stdout",
     "output_type": "stream",
     "text": [
      "hello 大家好，我自我介绍一下，简单说两句\n",
      "<class 'tuple'>\n",
      "liuying\n",
      "18\n",
      "北京大通州区\n",
      "wangxiaojing\n",
      "single\n",
      "hello 大家好，我自我介绍一下，简单说两句\n",
      "<class 'tuple'>\n",
      "周大神\n"
     ]
    }
   ],
   "source": [
    " def stu( *args):\n",
    "        print(\"hello 大家好，我自我介绍一下，简单说两句\")\n",
    "        print(type(args))\n",
    "        for item in args:\n",
    "            print(item)\n",
    "    \n",
    "stu(\"liuying\",18,\"北京大通州区\",\"wangxiaojing\",\"single\")\n",
    "\n",
    "stu(\"周大神\")"
   ]
  },
  {
   "cell_type": "code",
   "execution_count": 14,
   "metadata": {},
   "outputs": [
    {
     "name": "stdout",
     "output_type": "stream",
     "text": [
      "hello 大家好，我自我介绍一下，简单说两句\n",
      "<class 'tuple'>\n"
     ]
    }
   ],
   "source": [
    "stu() "
   ]
  },
  {
   "cell_type": "code",
   "execution_count": null,
   "metadata": {
    "collapsed": true
   },
   "outputs": [],
   "source": []
  }
 ],
 "metadata": {
  "kernelspec": {
   "display_name": "Python 3",
   "language": "python",
   "name": "python3"
  },
  "language_info": {
   "codemirror_mode": {
    "name": "ipython",
    "version": 3
   },
   "file_extension": ".py",
   "mimetype": "text/x-python",
   "name": "python",
   "nbconvert_exporter": "python",
   "pygments_lexer": "ipython3",
   "version": "3.6.3"
  }
 },
 "nbformat": 4,
 "nbformat_minor": 2
}
